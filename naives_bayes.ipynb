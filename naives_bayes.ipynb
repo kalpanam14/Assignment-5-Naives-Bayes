{
 "cells": [
  {
   "cell_type": "code",
   "execution_count": 1,
   "metadata": {},
   "outputs": [],
   "source": [
    "import pandas as pd\n",
    "import numpy as np"
   ]
  },
  {
   "cell_type": "code",
   "execution_count": 2,
   "metadata": {},
   "outputs": [],
   "source": [
    "data = pd.DataFrame({\n",
    "    'Outlook': ['Sunny', 'Overcast', 'Rainy', 'Sunny', 'Sunny', 'Overcast', 'Rainy', 'Rainy', 'Sunny', 'Rainy'],\n",
    "    'Temperature': ['Hot', 'Cool', 'Mild', 'Mild', 'Cool', 'Cool', 'Mild', 'Hot', 'Cool', 'Mild'],\n",
    "    'Humidity': ['High', 'Normal', 'High', 'High', 'Normal', 'Normal', 'Normal', 'High', 'Normal', 'High'],\n",
    "    'Wind': ['Weak', 'Strong', 'Weak', 'Weak', 'Weak', 'Strong', 'Strong', 'Weak', 'Weak', 'Strong'],\n",
    "    'Play': ['No', 'Yes', 'Yes', 'Yes', 'Yes', 'Yes', 'No', 'No', 'Yes', 'No']\n",
    "})\n"
   ]
  },
  {
   "cell_type": "code",
   "execution_count": 3,
   "metadata": {},
   "outputs": [],
   "source": [
    "# Calculate prior probabilities\n",
    "prior_prob_play = len(data[data['Play'] == 'Yes']) / len(data)\n",
    "prior_prob_not_play = len(data[data['Play'] == 'No']) / len(data)"
   ]
  },
  {
   "cell_type": "code",
   "execution_count": 8,
   "metadata": {},
   "outputs": [
    {
     "data": {
      "text/html": [
       "<div>\n",
       "<style scoped>\n",
       "    .dataframe tbody tr th:only-of-type {\n",
       "        vertical-align: middle;\n",
       "    }\n",
       "\n",
       "    .dataframe tbody tr th {\n",
       "        vertical-align: top;\n",
       "    }\n",
       "\n",
       "    .dataframe thead th {\n",
       "        text-align: right;\n",
       "    }\n",
       "</style>\n",
       "<table border=\"1\" class=\"dataframe\">\n",
       "  <thead>\n",
       "    <tr style=\"text-align: right;\">\n",
       "      <th></th>\n",
       "      <th>Outlook</th>\n",
       "      <th>Temperature</th>\n",
       "      <th>Humidity</th>\n",
       "      <th>Wind</th>\n",
       "      <th>Play</th>\n",
       "    </tr>\n",
       "  </thead>\n",
       "  <tbody>\n",
       "    <tr>\n",
       "      <th>0</th>\n",
       "      <td>Sunny</td>\n",
       "      <td>Hot</td>\n",
       "      <td>High</td>\n",
       "      <td>Weak</td>\n",
       "      <td>No</td>\n",
       "    </tr>\n",
       "    <tr>\n",
       "      <th>1</th>\n",
       "      <td>Overcast</td>\n",
       "      <td>Cool</td>\n",
       "      <td>Normal</td>\n",
       "      <td>Strong</td>\n",
       "      <td>Yes</td>\n",
       "    </tr>\n",
       "    <tr>\n",
       "      <th>2</th>\n",
       "      <td>Rainy</td>\n",
       "      <td>Mild</td>\n",
       "      <td>High</td>\n",
       "      <td>Weak</td>\n",
       "      <td>Yes</td>\n",
       "    </tr>\n",
       "    <tr>\n",
       "      <th>3</th>\n",
       "      <td>Sunny</td>\n",
       "      <td>Mild</td>\n",
       "      <td>High</td>\n",
       "      <td>Weak</td>\n",
       "      <td>Yes</td>\n",
       "    </tr>\n",
       "    <tr>\n",
       "      <th>4</th>\n",
       "      <td>Sunny</td>\n",
       "      <td>Cool</td>\n",
       "      <td>Normal</td>\n",
       "      <td>Weak</td>\n",
       "      <td>Yes</td>\n",
       "    </tr>\n",
       "  </tbody>\n",
       "</table>\n",
       "</div>"
      ],
      "text/plain": [
       "    Outlook Temperature Humidity    Wind Play\n",
       "0     Sunny         Hot     High    Weak   No\n",
       "1  Overcast        Cool   Normal  Strong  Yes\n",
       "2     Rainy        Mild     High    Weak  Yes\n",
       "3     Sunny        Mild     High    Weak  Yes\n",
       "4     Sunny        Cool   Normal    Weak  Yes"
      ]
     },
     "execution_count": 8,
     "metadata": {},
     "output_type": "execute_result"
    }
   ],
   "source": [
    "data.head()"
   ]
  },
  {
   "cell_type": "code",
   "execution_count": 9,
   "metadata": {},
   "outputs": [
    {
     "name": "stdout",
     "output_type": "stream",
     "text": [
      "Frequency Tables:\n",
      "\n",
      " Outlook :\n",
      " Outlook\n",
      "Sunny       4\n",
      "Rainy       4\n",
      "Overcast    2\n",
      "Name: count, dtype: int64\n",
      "\n",
      " Temperature :\n",
      " Temperature\n",
      "Cool    4\n",
      "Mild    4\n",
      "Hot     2\n",
      "Name: count, dtype: int64\n",
      "\n",
      " Humidity :\n",
      " Humidity\n",
      "High      5\n",
      "Normal    5\n",
      "Name: count, dtype: int64\n",
      "\n",
      " Wind :\n",
      " Wind\n",
      "Weak      6\n",
      "Strong    4\n",
      "Name: count, dtype: int64\n",
      "\n",
      " Play :\n",
      " Play\n",
      "Yes    6\n",
      "No     4\n",
      "Name: count, dtype: int64\n"
     ]
    }
   ],
   "source": [
    "# Create frequency tables for each feature\n",
    "frequency_tables = {}\n",
    "for column in data.columns:\n",
    "    frequency_tables[column] = data[column].value_counts()\n",
    "\n",
    "print(\"Frequency Tables:\")\n",
    "for feature, table in frequency_tables.items():\n",
    "    print(\"\\n\", feature, \":\\n\", table)"
   ]
  },
  {
   "cell_type": "code",
   "execution_count": 4,
   "metadata": {},
   "outputs": [],
   "source": [
    "# Calculate Likelihood tables\n",
    "likelihood_tables = {}\n",
    "for feature in data.columns[:-1]:\n",
    "    likelihood_tables[feature] = data.groupby([feature, 'Play']).size().unstack(fill_value=0) / len(data)\n"
   ]
  },
  {
   "cell_type": "code",
   "execution_count": 5,
   "metadata": {},
   "outputs": [],
   "source": [
    "# New data point to predict (modify with your own values)\n",
    "new_data_point = {'Outlook': 'Sunny', 'Temperature': 'Cool', 'Humidity': 'High', 'Wind': 'Weak'}\n"
   ]
  },
  {
   "cell_type": "code",
   "execution_count": 6,
   "metadata": {},
   "outputs": [],
   "source": [
    "# Calculate posterior probabilities\n",
    "posterior_prob_play = prior_prob_play\n",
    "posterior_prob_not_play = prior_prob_not_play\n",
    "for feature, value in new_data_point.items():\n",
    "    posterior_prob_play *= likelihood_tables[feature].loc[value, 'Yes']\n",
    "    posterior_prob_not_play *= likelihood_tables[feature].loc[value, 'No']\n"
   ]
  },
  {
   "cell_type": "code",
   "execution_count": 7,
   "metadata": {},
   "outputs": [
    {
     "name": "stdout",
     "output_type": "stream",
     "text": [
      "Play: 0.00576\n",
      "Not Play: 0.0\n",
      "Decision: Yes\n"
     ]
    }
   ],
   "source": [
    "# Make a decision\n",
    "if posterior_prob_play > posterior_prob_not_play:\n",
    "    decision = 'Yes'\n",
    "else:\n",
    "    decision = 'No'\n",
    "\n",
    "print(\"Play:\", posterior_prob_play)\n",
    "print(\"Not Play:\", posterior_prob_not_play)\n",
    "print(\"Decision:\", decision)"
   ]
  }
 ],
 "metadata": {
  "kernelspec": {
   "display_name": "Python 3",
   "language": "python",
   "name": "python3"
  },
  "language_info": {
   "codemirror_mode": {
    "name": "ipython",
    "version": 3
   },
   "file_extension": ".py",
   "mimetype": "text/x-python",
   "name": "python",
   "nbconvert_exporter": "python",
   "pygments_lexer": "ipython3",
   "version": "3.11.4"
  }
 },
 "nbformat": 4,
 "nbformat_minor": 2
}
